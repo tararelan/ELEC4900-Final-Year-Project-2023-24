{
 "cells": [
  {
   "cell_type": "code",
   "execution_count": 70,
   "metadata": {},
   "outputs": [],
   "source": [
    "import pandas as pd\n",
    "import matplotlib.pyplot as plt \n",
    "import numpy as np\n",
    "\n",
    "from prettytable import PrettyTable\n",
    "from sklearn.model_selection import train_test_split\n",
    "from sklearn.svm import SVC\n",
    "from sklearn.preprocessing import MinMaxScaler, LabelEncoder\n",
    "from sklearn.metrics import hinge_loss, accuracy_score"
   ]
  },
  {
   "cell_type": "code",
   "execution_count": 71,
   "metadata": {},
   "outputs": [],
   "source": [
    "data = pd.read_excel('Youngs.xlsx')"
   ]
  },
  {
   "cell_type": "code",
   "execution_count": 72,
   "metadata": {},
   "outputs": [],
   "source": [
    "le = LabelEncoder()\n",
    "scaler = MinMaxScaler()\n",
    "\n",
    "data['Cluster_Encoded'] = le.fit_transform(data['Cluster'])     # 0 = healthy, 1 = unhealthy\n",
    "data['Youngs_Normalised'] = scaler.fit_transform(data['Youngs'].values.reshape(-1, 1))\n",
    "\n",
    "dataTable = pd.DataFrame({\n",
    "    'Youngs': data['Youngs_Normalised'],\n",
    "    'Cluster': data['Cluster_Encoded']\n",
    "})"
   ]
  },
  {
   "cell_type": "code",
   "execution_count": 73,
   "metadata": {},
   "outputs": [
    {
     "data": {
      "text/html": [
       "<div>\n",
       "<style scoped>\n",
       "    .dataframe tbody tr th:only-of-type {\n",
       "        vertical-align: middle;\n",
       "    }\n",
       "\n",
       "    .dataframe tbody tr th {\n",
       "        vertical-align: top;\n",
       "    }\n",
       "\n",
       "    .dataframe thead th {\n",
       "        text-align: right;\n",
       "    }\n",
       "</style>\n",
       "<table border=\"1\" class=\"dataframe\">\n",
       "  <thead>\n",
       "    <tr style=\"text-align: right;\">\n",
       "      <th></th>\n",
       "      <th>Youngs</th>\n",
       "      <th>Cluster</th>\n",
       "    </tr>\n",
       "  </thead>\n",
       "  <tbody>\n",
       "    <tr>\n",
       "      <th>0</th>\n",
       "      <td>0.027241</td>\n",
       "      <td>0</td>\n",
       "    </tr>\n",
       "    <tr>\n",
       "      <th>1</th>\n",
       "      <td>0.028213</td>\n",
       "      <td>0</td>\n",
       "    </tr>\n",
       "    <tr>\n",
       "      <th>2</th>\n",
       "      <td>0.053918</td>\n",
       "      <td>0</td>\n",
       "    </tr>\n",
       "    <tr>\n",
       "      <th>3</th>\n",
       "      <td>0.025862</td>\n",
       "      <td>0</td>\n",
       "    </tr>\n",
       "    <tr>\n",
       "      <th>4</th>\n",
       "      <td>0.042003</td>\n",
       "      <td>0</td>\n",
       "    </tr>\n",
       "    <tr>\n",
       "      <th>...</th>\n",
       "      <td>...</td>\n",
       "      <td>...</td>\n",
       "    </tr>\n",
       "    <tr>\n",
       "      <th>1273</th>\n",
       "      <td>0.958019</td>\n",
       "      <td>1</td>\n",
       "    </tr>\n",
       "    <tr>\n",
       "      <th>1274</th>\n",
       "      <td>0.728522</td>\n",
       "      <td>1</td>\n",
       "    </tr>\n",
       "    <tr>\n",
       "      <th>1275</th>\n",
       "      <td>0.825504</td>\n",
       "      <td>1</td>\n",
       "    </tr>\n",
       "    <tr>\n",
       "      <th>1276</th>\n",
       "      <td>0.948598</td>\n",
       "      <td>1</td>\n",
       "    </tr>\n",
       "    <tr>\n",
       "      <th>1277</th>\n",
       "      <td>0.760376</td>\n",
       "      <td>1</td>\n",
       "    </tr>\n",
       "  </tbody>\n",
       "</table>\n",
       "<p>1278 rows × 2 columns</p>\n",
       "</div>"
      ],
      "text/plain": [
       "        Youngs  Cluster\n",
       "0     0.027241        0\n",
       "1     0.028213        0\n",
       "2     0.053918        0\n",
       "3     0.025862        0\n",
       "4     0.042003        0\n",
       "...        ...      ...\n",
       "1273  0.958019        1\n",
       "1274  0.728522        1\n",
       "1275  0.825504        1\n",
       "1276  0.948598        1\n",
       "1277  0.760376        1\n",
       "\n",
       "[1278 rows x 2 columns]"
      ]
     },
     "execution_count": 73,
     "metadata": {},
     "output_type": "execute_result"
    }
   ],
   "source": [
    "dataTable"
   ]
  },
  {
   "cell_type": "code",
   "execution_count": 74,
   "metadata": {},
   "outputs": [],
   "source": [
    "X = dataTable['Youngs']\n",
    "y = dataTable['Cluster']\n",
    "\n",
    "x_train_val, x_test, y_train_val, y_test = train_test_split(X, y, test_size=0.1, random_state=4900)\n",
    "x_train, x_val, y_train, y_val = train_test_split(x_train_val, y_train_val, test_size=0.1, random_state=4900)\n",
    "\n",
    "x_train = np.array(x_train).reshape(-1, 1)\n",
    "x_val = np.array(x_val).reshape(-1, 1)\n",
    "x_test = np.array(x_test).reshape(-1, 1)\n",
    "x_train = np.array(x_train).reshape(-1, 1)\n",
    "x_test = np.array(x_test).reshape(-1, 1)"
   ]
  },
  {
   "cell_type": "code",
   "execution_count": 75,
   "metadata": {},
   "outputs": [],
   "source": [
    "training_score_list = []\n",
    "val_score_list = []\n",
    "\n",
    "for kernel in ['linear', 'poly', 'rbf', 'sigmoid']:\n",
    "    for c in np.arange(0.5, 3, 0.5):\n",
    "        svm = SVC(kernel=kernel, C=c).fit(x_train, y_train)\n",
    "        y_train_pred = svm.predict(x_train)\n",
    "        y_val_pred = svm.predict(x_val)\n",
    "        train_accuracy = accuracy_score(y_train, y_train_pred)\n",
    "        val_accuracy = accuracy_score(y_val, y_val_pred)\n",
    "        train_loss = hinge_loss(y_train, y_train_pred)\n",
    "        training_score_list.append([kernel, c, train_accuracy, val_accuracy, train_loss])"
   ]
  },
  {
   "cell_type": "code",
   "execution_count": 76,
   "metadata": {},
   "outputs": [
    {
     "name": "stdout",
     "output_type": "stream",
     "text": [
      "+---------+-----+-------------------+---------------------+---------------+\n",
      "|  Kernel |  C  | Training Accuracy | Validation Accuracy | Training Loss |\n",
      "+---------+-----+-------------------+---------------------+---------------+\n",
      "|  linear | 0.5 |       97.78       |        100.0        |     0.6686    |\n",
      "|  linear | 1.0 |        97.0       |        98.26        |     0.6763    |\n",
      "|  linear | 1.5 |       96.91       |        98.26        |     0.6773    |\n",
      "|  linear | 2.0 |       96.91       |        98.26        |     0.6773    |\n",
      "|  linear | 2.5 |       96.91       |        98.26        |     0.6773    |\n",
      "|   poly  | 0.5 |        99.9       |        100.0        |     0.6473    |\n",
      "|   poly  | 1.0 |       100.0       |        100.0        |     0.6464    |\n",
      "|   poly  | 1.5 |       99.81       |        100.0        |     0.6483    |\n",
      "|   poly  | 2.0 |       100.0       |        100.0        |     0.6464    |\n",
      "|   poly  | 2.5 |        99.9       |        100.0        |     0.6473    |\n",
      "|   rbf   | 0.5 |       97.78       |        100.0        |     0.6686    |\n",
      "|   rbf   | 1.0 |       98.94       |        100.0        |     0.657     |\n",
      "|   rbf   | 1.5 |       99.81       |        100.0        |     0.6483    |\n",
      "|   rbf   | 2.0 |       99.81       |        100.0        |     0.6483    |\n",
      "|   rbf   | 2.5 |       99.81       |        100.0        |     0.6483    |\n",
      "| sigmoid | 0.5 |       30.53       |         40.0        |     1.3411    |\n",
      "| sigmoid | 1.0 |       30.05       |         40.0        |     1.3459    |\n",
      "| sigmoid | 1.5 |       29.86       |         40.0        |     1.3478    |\n",
      "| sigmoid | 2.0 |       29.66       |         40.0        |     1.3498    |\n",
      "| sigmoid | 2.5 |       29.66       |         40.0        |     1.3498    |\n",
      "+---------+-----+-------------------+---------------------+---------------+\n"
     ]
    }
   ],
   "source": [
    "myTable = PrettyTable([\"Kernel\", \"C\", \"Training Accuracy\", \"Validation Accuracy\", \"Training Loss\"])\n",
    "for row in training_score_list:\n",
    "    myTable.add_row([row[0], row[1], round(row[2]*100, 2), round(row[3]*100, 2), round(row[4], 4)])\n",
    "print(myTable)"
   ]
  },
  {
   "cell_type": "code",
   "execution_count": 77,
   "metadata": {},
   "outputs": [
    {
     "name": "stdout",
     "output_type": "stream",
     "text": [
      "Testing Accuracy: 1.0\n",
      "Testing Loss: 0.703125\n"
     ]
    }
   ],
   "source": [
    "svm = SVC(kernel='poly', C=0.5)\n",
    "svm.fit(x_train, y_train)\n",
    "\n",
    "y_train_pred = svm.predict(x_train)\n",
    "y_test_pred = svm.predict(x_test)\n",
    "\n",
    "train_accuracy = accuracy_score(y_train, y_train_pred)\n",
    "test_accuracy = accuracy_score(y_test, y_test_pred)\n",
    "test_loss = hinge_loss(y_test, y_test_pred)\n",
    "\n",
    "print(\"Testing Accuracy:\", test_accuracy)\n",
    "print(\"Testing Loss:\", test_loss)"
   ]
  },
  {
   "cell_type": "code",
   "execution_count": 78,
   "metadata": {},
   "outputs": [
    {
     "name": "stdout",
     "output_type": "stream",
     "text": [
      "[[0.45935453]\n",
      " [0.45390836]\n",
      " [0.45656744]\n",
      " [0.46193076]\n",
      " [0.4601544 ]\n",
      " [0.44152631]\n",
      " [0.44547013]\n",
      " [0.44409454]\n",
      " [0.45775482]\n",
      " [0.44925191]\n",
      " [0.45920899]\n",
      " [0.45407963]\n",
      " [0.46159163]\n",
      " [0.44935449]\n",
      " [0.46004039]\n",
      " [0.45580327]\n",
      " [0.45370679]\n",
      " [0.459121  ]\n",
      " [0.47928727]\n",
      " [0.46301088]\n",
      " [0.4724945 ]\n",
      " [0.46885897]\n",
      " [0.4753715 ]\n",
      " [0.46681855]\n",
      " [0.48135657]\n",
      " [0.4676525 ]\n",
      " [0.4716833 ]\n",
      " [0.46658405]\n",
      " [0.46333711]\n",
      " [0.46495515]\n",
      " [0.4690448 ]\n",
      " [0.4711671 ]\n",
      " [0.47803144]\n",
      " [0.4689989 ]\n",
      " [0.47884584]\n",
      " [0.46805154]]\n"
     ]
    }
   ],
   "source": [
    "print(svm.support_vectors_)"
   ]
  },
  {
   "cell_type": "code",
   "execution_count": 79,
   "metadata": {},
   "outputs": [
    {
     "name": "stderr",
     "output_type": "stream",
     "text": [
      "No artists with labels found to put in legend.  Note that artists whose label start with an underscore are ignored when legend() is called with no argument.\n"
     ]
    },
    {
     "data": {
      "image/png": "[encoded data removed]",
      "text/plain": [
       "<Figure size 640x480 with 1 Axes>"
      ]
     },
     "metadata": {},
     "output_type": "display_data"
    }
   ],
   "source": [
    "x_min, x_max = x_train.min() - 1, x_train.max() + 1\n",
    "x_plot = np.linspace(x_min, x_max, 1000)\n",
    "y_plot = svm.decision_function(x_plot.reshape(-1, 1))\n",
    "\n",
    "plt.plot(x_plot, y_plot, color='black', linestyle='-', linewidth=2)\n",
    "\n",
    "support_vectors = svm.support_vectors_\n",
    "# plt.scatter(support_vectors, np.zeros_like(support_vectors), color='red', marker='o', s=100, label='Support Vectors')\n",
    "\n",
    "plt.scatter(x_train, y_train, c=y_train, cmap='viridis', label=\"\")\n",
    "\n",
    "plt.xlabel(\"Feature\")\n",
    "plt.ylabel(\"Class\")\n",
    "plt.title(\"SVM Results\")\n",
    "plt.ylim(-0.5, 1.5)  # Set the y-axis limit\n",
    "plt.legend()\n",
    "plt.show()"
   ]
  }
 ],
 "metadata": {
  "kernelspec": {
   "display_name": "Python 3",
   "language": "python",
   "name": "python3"
  },
  "language_info": {
   "codemirror_mode": {
    "name": "ipython",
    "version": 3
   },
   "file_extension": ".py",
   "mimetype": "text/x-python",
   "name": "python",
   "nbconvert_exporter": "python",
   "pygments_lexer": "ipython3",
   "version": "3.11.3"
  }
 },
 "nbformat": 4,
 "nbformat_minor": 2
}
